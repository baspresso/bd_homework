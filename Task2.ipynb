{
  "cells": [
    {
      "cell_type": "code",
      "execution_count": 1,
      "metadata": {
        "id": "YYWsp2O1GzPy"
      },
      "outputs": [],
      "source": [
        "import random\n",
        "import multiprocessing\n",
        "from multiprocessing import Process, Lock\n",
        "import time\n",
        "import os"
      ]
    },
    {
      "cell_type": "markdown",
      "metadata": {
        "id": "DwZpihhuGzPw"
      },
      "source": [
        "Генерация 50000 случайных 32-битных целых чисел."
      ]
    },
    {
      "cell_type": "code",
      "execution_count": 2,
      "metadata": {
        "id": "gmIxrch1GzP0"
      },
      "outputs": [],
      "source": [
        "numbers = [random.randint(1, 2**32 - 1) for _ in range(50000)]"
      ]
    },
    {
      "cell_type": "code",
      "execution_count": 3,
      "metadata": {
        "id": "c9-9I9CcGzP0"
      },
      "outputs": [],
      "source": [
        "def count_prime_factors(x):\n",
        "    cnt, i = 0, 2\n",
        "    while i * i <= x:\n",
        "        while x % i == 0:\n",
        "            cnt +=1\n",
        "            x /= i\n",
        "        i += 1\n",
        "    if x > 1:\n",
        "        cnt += 1\n",
        "    return cnt"
      ]
    },
    {
      "cell_type": "markdown",
      "source": [
        "Подсчет простым последовательным алгоритмом\n"
      ],
      "metadata": {
        "id": "rmxDMF1NAtqS"
      }
    },
    {
      "cell_type": "code",
      "execution_count": 4,
      "metadata": {
        "id": "jI5zp7_TGzP0"
      },
      "outputs": [],
      "source": [
        "def single_thread_counter(numbers):\n",
        "    total_cnt = 0\n",
        "    for x in numbers:\n",
        "        total_cnt += count_prime_factors(x)\n",
        "    return total_cnt"
      ]
    },
    {
      "cell_type": "code",
      "source": [
        "start_time = time.time()\n",
        "result = single_thread_counter(numbers)\n",
        "end_time = time.time()\n",
        "print(f\"Результат: {result}\")\n",
        "print(f\"Время выполнения: {end_time - start_time} секунд\")"
      ],
      "metadata": {
        "colab": {
          "base_uri": "https://localhost:8080/"
        },
        "id": "poLPDp2XG5EO",
        "outputId": "b82f3e93-acd5-4916-a523-6ff1da466a17"
      },
      "execution_count": 6,
      "outputs": [
        {
          "output_type": "stream",
          "name": "stdout",
          "text": [
            "Результат: 206411\n",
            "Время выполнения: 85.0718731880188 секунд\n"
          ]
        }
      ]
    },
    {
      "cell_type": "markdown",
      "source": [
        "Подсчет многопоточно"
      ],
      "metadata": {
        "id": "vcvA5Gh7BdaO"
      }
    },
    {
      "cell_type": "code",
      "execution_count": 13,
      "metadata": {
        "id": "UJGW2uqoGzP1"
      },
      "outputs": [],
      "source": [
        "def thread_counter(total_cnt, now, lock, numbers):\n",
        "    res, i = 0, 0\n",
        "    with lock:\n",
        "        i = now.value\n",
        "        now.value += 1\n",
        "    while i < len(numbers):\n",
        "        res += count_prime_factors(numbers[i])\n",
        "        with lock:\n",
        "            i = now.value\n",
        "            now.value += 1\n",
        "    with lock:\n",
        "        total_cnt.value += res"
      ]
    },
    {
      "cell_type": "code",
      "execution_count": 14,
      "metadata": {
        "id": "LpxA6gGwGzP2"
      },
      "outputs": [],
      "source": [
        "def multiprocessing_counter(numbers):\n",
        "    total_cnt, now = multiprocessing.Value('i', 0), multiprocessing.Value('i', 0)\n",
        "    lock = multiprocessing.Lock()\n",
        "    processes = []\n",
        "    for i in range(os.cpu_count()):\n",
        "        process = multiprocessing.Process(target=thread_counter, args=(total_cnt, now, lock, numbers))\n",
        "        processes.append(process)\n",
        "        process.start()\n",
        "    for process in processes:\n",
        "        process.join()\n",
        "    return total_cnt.value"
      ]
    },
    {
      "cell_type": "code",
      "execution_count": 15,
      "metadata": {
        "colab": {
          "base_uri": "https://localhost:8080/"
        },
        "id": "6CoQ2ovQGzP2",
        "outputId": "499323e6-5259-4414-f738-c517cf164d30"
      },
      "outputs": [
        {
          "output_type": "stream",
          "name": "stdout",
          "text": [
            "Результат: 206411\n",
            "Время выполнения: 88.496661901474 секунд\n"
          ]
        }
      ],
      "source": [
        "start_time = time.time()\n",
        "result = multiprocessing_counter(numbers)\n",
        "end_time = time.time()\n",
        "print(f\"Результат: {result}\")\n",
        "print(f\"Время выполнения: {end_time - start_time} секунд\")"
      ]
    },
    {
      "cell_type": "markdown",
      "source": [
        "Подсчет с помощью Ray"
      ],
      "metadata": {
        "id": "1fTyrX1qC7Be"
      }
    },
    {
      "cell_type": "code",
      "source": [
        "!pip install ray"
      ],
      "metadata": {
        "colab": {
          "base_uri": "https://localhost:8080/"
        },
        "id": "54UtC7BdDN0I",
        "outputId": "0aff8297-795e-4e7f-9310-9c0eaa2d179c"
      },
      "execution_count": 11,
      "outputs": [
        {
          "output_type": "stream",
          "name": "stdout",
          "text": [
            "Collecting ray\n",
            "  Downloading ray-2.31.0-cp310-cp310-manylinux2014_x86_64.whl (66.2 MB)\n",
            "\u001b[2K     \u001b[90m━━━━━━━━━━━━━━━━━━━━━━━━━━━━━━━━━━━━━━━━\u001b[0m \u001b[32m66.2/66.2 MB\u001b[0m \u001b[31m13.5 MB/s\u001b[0m eta \u001b[36m0:00:00\u001b[0m\n",
            "\u001b[?25hRequirement already satisfied: click>=7.0 in /usr/local/lib/python3.10/dist-packages (from ray) (8.1.7)\n",
            "Requirement already satisfied: filelock in /usr/local/lib/python3.10/dist-packages (from ray) (3.15.4)\n",
            "Requirement already satisfied: jsonschema in /usr/local/lib/python3.10/dist-packages (from ray) (4.19.2)\n",
            "Requirement already satisfied: msgpack<2.0.0,>=1.0.0 in /usr/local/lib/python3.10/dist-packages (from ray) (1.0.8)\n",
            "Requirement already satisfied: packaging in /usr/local/lib/python3.10/dist-packages (from ray) (24.1)\n",
            "Requirement already satisfied: protobuf!=3.19.5,>=3.15.3 in /usr/local/lib/python3.10/dist-packages (from ray) (3.20.3)\n",
            "Requirement already satisfied: pyyaml in /usr/local/lib/python3.10/dist-packages (from ray) (6.0.1)\n",
            "Requirement already satisfied: aiosignal in /usr/local/lib/python3.10/dist-packages (from ray) (1.3.1)\n",
            "Requirement already satisfied: frozenlist in /usr/local/lib/python3.10/dist-packages (from ray) (1.4.1)\n",
            "Requirement already satisfied: requests in /usr/local/lib/python3.10/dist-packages (from ray) (2.31.0)\n",
            "Requirement already satisfied: attrs>=22.2.0 in /usr/local/lib/python3.10/dist-packages (from jsonschema->ray) (23.2.0)\n",
            "Requirement already satisfied: jsonschema-specifications>=2023.03.6 in /usr/local/lib/python3.10/dist-packages (from jsonschema->ray) (2023.12.1)\n",
            "Requirement already satisfied: referencing>=0.28.4 in /usr/local/lib/python3.10/dist-packages (from jsonschema->ray) (0.35.1)\n",
            "Requirement already satisfied: rpds-py>=0.7.1 in /usr/local/lib/python3.10/dist-packages (from jsonschema->ray) (0.18.1)\n",
            "Requirement already satisfied: charset-normalizer<4,>=2 in /usr/local/lib/python3.10/dist-packages (from requests->ray) (3.3.2)\n",
            "Requirement already satisfied: idna<4,>=2.5 in /usr/local/lib/python3.10/dist-packages (from requests->ray) (3.7)\n",
            "Requirement already satisfied: urllib3<3,>=1.21.1 in /usr/local/lib/python3.10/dist-packages (from requests->ray) (2.0.7)\n",
            "Requirement already satisfied: certifi>=2017.4.17 in /usr/local/lib/python3.10/dist-packages (from requests->ray) (2024.6.2)\n",
            "Installing collected packages: ray\n",
            "Successfully installed ray-2.31.0\n"
          ]
        }
      ]
    },
    {
      "cell_type": "code",
      "source": [
        "import ray\n",
        "import time\n",
        "\n",
        "ray.init()\n",
        "\n",
        "@ray.remote\n",
        "def prime_factors_count(number):\n",
        "    return count_prime_factors(number)\n",
        "\n",
        "\n",
        "start_time = time.time()\n",
        "results = ray.get([prime_factors_count.remote(number) for number in numbers])\n",
        "\n",
        "total_prime_factors = sum(results)\n",
        "\n",
        "end_time = time.time()\n",
        "\n",
        "ray.shutdown()\n",
        "\n",
        "print(\"Алгоритм с использованием Ray:\")\n",
        "print(f\"Общее количество простых множителей: {total_prime_factors}\")\n",
        "print(f\"Время выполнения: {end_time - start_time} секунд\")"
      ],
      "metadata": {
        "colab": {
          "base_uri": "https://localhost:8080/"
        },
        "id": "qn-P5_NLAklx",
        "outputId": "6d1529e4-0777-427a-a79a-145dfbd86a9e"
      },
      "execution_count": 12,
      "outputs": [
        {
          "output_type": "stream",
          "name": "stderr",
          "text": [
            "2024-07-03 10:06:12,506\tINFO worker.py:1771 -- Started a local Ray instance.\n"
          ]
        },
        {
          "output_type": "stream",
          "name": "stdout",
          "text": [
            "Алгоритм с использованием Ray:\n",
            "Общее количество простых множителей: 206411\n",
            "Время выполнения: 156.35539412498474 секунд\n"
          ]
        }
      ]
    }
  ],
  "metadata": {
    "kernelspec": {
      "display_name": "Python 3",
      "language": "python",
      "name": "python3"
    },
    "language_info": {
      "codemirror_mode": {
        "name": "ipython",
        "version": 3
      },
      "file_extension": ".py",
      "mimetype": "text/x-python",
      "name": "python",
      "nbconvert_exporter": "python",
      "pygments_lexer": "ipython3",
      "version": "3.10.8"
    },
    "colab": {
      "provenance": []
    }
  },
  "nbformat": 4,
  "nbformat_minor": 0
}
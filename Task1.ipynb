{
  "cells": [
    {
      "cell_type": "code",
      "execution_count": 4,
      "metadata": {
        "id": "25wIU3oXcBKf"
      },
      "outputs": [],
      "source": [
        "import os\n",
        "import random\n",
        "import struct\n",
        "import time"
      ]
    },
    {
      "cell_type": "markdown",
      "metadata": {
        "id": "K-kTrwzFcBKh"
      },
      "source": [
        "Создание файла"
      ]
    },
    {
      "cell_type": "code",
      "execution_count": 2,
      "metadata": {
        "id": "29ctEY_gcBKi"
      },
      "outputs": [],
      "source": [
        "file_size = 2 * 1024 * 1024 * 1024\n",
        "file_name = \"random_integers.bin\"\n",
        "num_integers = file_size // 4\n",
        "\n",
        "with open(file_name, \"wb\") as f:\n",
        "    for _ in range(num_integers):\n",
        "        random_int = random.randint(0, 0xFFFFFFFF)\n",
        "        f.write(struct.pack('>I', random_int))"
      ]
    },
    {
      "cell_type": "markdown",
      "metadata": {
        "id": "rWzNsYEkcBKi"
      },
      "source": [
        "Простое последовательное чтение"
      ]
    },
    {
      "cell_type": "code",
      "execution_count": 5,
      "metadata": {
        "id": "boV-ci8HcBKi"
      },
      "outputs": [],
      "source": [
        "def process_binary_file(file_name):\n",
        "    total_sum, min_value, max_value = 0, 2 ** 32 - 1, 0\n",
        "    with open(file_name, 'rb') as f:\n",
        "        while chunk := f.read(4):\n",
        "            x = struct.unpack('>I', chunk)[0]\n",
        "            total_sum += x\n",
        "            min_value, max_value = min(x, min_value), max(x, max_value)\n",
        "    return total_sum, min_value, max_value"
      ]
    },
    {
      "cell_type": "code",
      "source": [
        "start_time = time.time()\n",
        "total_sum, min_value, max_value = process_binary_file(file_name)\n",
        "end_time = time.time()\n",
        "print(f'Сумма: {total_sum}, Минимум: {min_value}, Максимум: {max_value}')\n",
        "print(f\"Время выполнения: {end_time - start_time} секунд\")"
      ],
      "metadata": {
        "colab": {
          "base_uri": "https://localhost:8080/"
        },
        "id": "S7R__AQWiB5_",
        "outputId": "1b379683-2aea-4a6c-80a1-f8789640725f"
      },
      "execution_count": 6,
      "outputs": [
        {
          "output_type": "stream",
          "name": "stdout",
          "text": [
            "Сумма: 1152907175663991962, Минимум: 12, Максимум: 4294967276\n",
            "Время выполнения: 421.2669394016266 секунд\n"
          ]
        }
      ]
    },
    {
      "cell_type": "markdown",
      "metadata": {
        "id": "asrrOiEgcBKj"
      },
      "source": [
        "Многопоточная + memory-mapped files. Сравните время работы."
      ]
    },
    {
      "cell_type": "code",
      "execution_count": 7,
      "metadata": {
        "id": "ehrWs0aVcBKk"
      },
      "outputs": [],
      "source": [
        "import mmap\n",
        "import threading\n",
        "\n",
        "def process_chunk(data, results, index):\n",
        "    total_sum = 0\n",
        "    min_value = 2**32 - 1\n",
        "    max_value = 0\n",
        "\n",
        "    for i in range(0, len(data), 4):\n",
        "        x = struct.unpack('>I', data[i:i+4])[0]\n",
        "        total_sum += x\n",
        "        min_value, mx = min(x, min_value), max(x, max_value)\n",
        "\n",
        "    results[index] = (total_sum, min_value, max_value)\n",
        "\n",
        "def process_binary_file_parallel(file_name):\n",
        "    with open(file_name, 'rb') as f:\n",
        "        file_size = os.path.getsize(file_name)\n",
        "        chunk_size = file_size // os.cpu_count()\n",
        "\n",
        "        with mmap.mmap(f.fileno(), length=0, access=mmap.ACCESS_READ) as mm:\n",
        "            threads = []\n",
        "            results = [None] * os.cpu_count()\n",
        "\n",
        "            for i in range(os.cpu_count()):\n",
        "                start = i * chunk_size\n",
        "                end = start + chunk_size if i != os.cpu_count() - 1 else file_size\n",
        "                thread = threading.Thread(target=process_chunk, args=(mm[start:end], results, i))\n",
        "                threads.append(thread)\n",
        "                thread.start()\n",
        "\n",
        "            for thread in threads:\n",
        "                thread.join()\n",
        "\n",
        "    total_sum = sum(result[0] for result in results)\n",
        "    min_value = min(result[1] for result in results)\n",
        "    max_value = max(result[2] for result in results)\n",
        "\n",
        "    return total_sum, min_value, max_value"
      ]
    },
    {
      "cell_type": "code",
      "source": [
        "start_time = time.time()\n",
        "total_sum, min_value, max_value = process_binary_file_parallel(file_name)\n",
        "end_time = time.time()\n",
        "print(f'Сумма: {total_sum}, Минимум: {min_value}, Максимум: {max_value}')\n",
        "print(f\"Время выполнения: {end_time - start_time} секунд\")"
      ],
      "metadata": {
        "colab": {
          "base_uri": "https://localhost:8080/"
        },
        "id": "_6lxvXg6iYfo",
        "outputId": "220cac7f-6034-496f-f5ba-17af827cf727"
      },
      "execution_count": 8,
      "outputs": [
        {
          "output_type": "stream",
          "name": "stdout",
          "text": [
            "Сумма: 1152907175663991962, Минимум: 12, Максимум: 0\n",
            "Время выполнения: 412.33127069473267 секунд\n"
          ]
        }
      ]
    }
  ],
  "metadata": {
    "kernelspec": {
      "display_name": "Python 3",
      "language": "python",
      "name": "python3"
    },
    "language_info": {
      "codemirror_mode": {
        "name": "ipython",
        "version": 3
      },
      "file_extension": ".py",
      "mimetype": "text/x-python",
      "name": "python",
      "nbconvert_exporter": "python",
      "pygments_lexer": "ipython3",
      "version": "3.10.8"
    },
    "colab": {
      "provenance": []
    }
  },
  "nbformat": 4,
  "nbformat_minor": 0
}